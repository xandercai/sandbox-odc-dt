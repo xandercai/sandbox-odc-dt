{
 "cells": [
  {
   "cell_type": "code",
   "execution_count": 1,
   "id": "119ae228-5145-4f27-8bfa-0ae13b546f58",
   "metadata": {},
   "outputs": [],
   "source": [
    "import warnings\n",
    "warnings.filterwarnings('ignore')"
   ]
  },
  {
   "cell_type": "code",
   "execution_count": null,
   "id": "f13356b3-b5f4-4f37-b582-b892c6a8d36f",
   "metadata": {},
   "outputs": [],
   "source": []
  },
  {
   "cell_type": "code",
   "execution_count": 2,
   "id": "ea53f699-a5c1-4996-a383-deef500542a7",
   "metadata": {},
   "outputs": [],
   "source": [
    "import sys\n",
    "sys.path.insert(1, 'Digital-Twins')\n",
    "\n",
    "import logging\n",
    "import pathlib\n",
    "import pandas as pd\n",
    "from src.digitaltwin import setup_environment, get_data_from_db, run\n",
    "from src.dynamic_boundary_conditions import main_rainfall\n",
    "from src.lidar import lidar_metadata_in_db, dem_metadata_in_db\n",
    "from src.flood_model import bg_flood_model\n",
    "from src import config\n",
    "\n",
    "log = logging.getLogger(__name__)\n",
    "log.setLevel(logging.DEBUG)\n",
    "\n",
    "formatter = logging.Formatter(\"%(levelname)s:%(asctime)s:%(name)s:%(message)s\")\n",
    "stream_handler = logging.StreamHandler()\n",
    "stream_handler.setFormatter(formatter)\n",
    "log.addHandler(stream_handler)"
   ]
  },
  {
   "cell_type": "code",
   "execution_count": 3,
   "id": "b39ade61-d895-44dc-9099-16a75e55ba32",
   "metadata": {
    "scrolled": true,
    "tags": []
   },
   "outputs": [
    {
     "name": "stderr",
     "output_type": "stream",
     "text": [
      "DEBUG:2023-02-20 00:28:15,937:__main__:run.main()\n",
      "INFO:2023-02-20 00:28:15,973:src.digitaltwin.setup_environment:Connected to PostgreSQL database!\n",
      "INFO:2023-02-20 00:28:17,131:src.digitaltwin.insert_api_to_table:Table 'region_geometry' already exists.\n",
      "DEBUG:2023-02-20 00:28:17,547:__main__:get_data_from_db.main()\n",
      "INFO:2023-02-20 00:28:17,581:src.digitaltwin.setup_environment:Connected to PostgreSQL database!\n",
      "DEBUG:2023-02-20 00:28:18,331:__main__:lidar_metadata_in_db.main()\n",
      "INFO:2023-02-20 00:28:18,354:src.digitaltwin.setup_environment:Connected to PostgreSQL database!\n"
     ]
    },
    {
     "name": "stdout",
     "output_type": "stream",
     "text": [
      "_50327-nz-river-centrelines\n",
      "                                             geometry  t50_fid  unique_id\n",
      "0   LINESTRING (1572398.001 5198947.070, 1572403.7...  6974901         40\n",
      "1   LINESTRING (1572810.433 5195587.224, 1572799.4...  7495783         46\n",
      "2   LINESTRING (1572776.277 5195515.716, 1572773.7...  7189992         42\n",
      "3   LINESTRING (1572519.462 5195245.074, 1572510.2...  6974897         37\n",
      "4   LINESTRING (1571969.250 5194197.847, 1571938.4...  7189991         19\n",
      "5   LINESTRING (1572254.185 5198233.956, 1572252.5...  6974900         41\n",
      "6   LINESTRING (1572519.462 5195245.074, 1572467.5...  6851677         39\n",
      "7   LINESTRING (1572003.734 5194648.875, 1571967.4...  6851676         20\n",
      "8   LINESTRING (1570396.372 5197615.451, 1570431.2...  7386336          1\n",
      "9   LINESTRING (1570379.748 5197603.484, 1570396.3...  7495788          2\n",
      "10  LINESTRING (1570641.545 5194660.373, 1570641.0...  6974896         35\n",
      "11  LINESTRING (1568854.598 5197121.370, 1568860.3...  6851678          4\n",
      "12  LINESTRING (1570379.748 5197603.484, 1570383.5...  6817931          3\n",
      "13  LINESTRING (1568993.185 5196611.246, 1568998.9...  7189986          5\n",
      "14  LINESTRING (1569568.234 5193537.372, 1569582.3...  7189942         33\n",
      "15  LINESTRING (1570273.707 5193247.321, 1570214.8...  6974853         34\n",
      "16  LINESTRING (1575090.162 5193653.048, 1575093.4...  6851645         17\n",
      "17  LINESTRING (1575090.162 5193653.048, 1575062.0...  7495769         16\n",
      "18  LINESTRING (1575016.980 5193596.070, 1574981.4...  6817925         10\n",
      "19  LINESTRING (1573243.620 5194482.449, 1573213.5...  7189993         12\n",
      "20  LINESTRING (1572948.873 5195895.012, 1572961.9...  7495785         44\n",
      "21  LINESTRING (1572918.619 5195836.354, 1572936.2...  7495784         43\n",
      "22  LINESTRING (1572948.873 5195895.012, 1572950.0...  7386332         45\n",
      "23  LINESTRING (1573457.429 5195046.479, 1573517.0...  6974898          7\n",
      "24  LINESTRING (1573762.169 5194936.267, 1573772.4...  7189994         38\n",
      "25  LINESTRING (1574455.290 5195504.981, 1574444.0...  7495787          9\n",
      "26  LINESTRING (1575687.961 5198445.822, 1575681.4...  7190004         21\n",
      "27  LINESTRING (1575742.087 5199271.544, 1575734.8...  6851679         29\n",
      "28  LINESTRING (1576149.572 5197869.140, 1576137.1...  7190005         23\n",
      "29  LINESTRING (1575602.880 5197211.694, 1575612.4...  7190002         26\n",
      "30  LINESTRING (1575799.033 5196938.216, 1575799.5...  7190001         32\n",
      "31  LINESTRING (1575850.264 5196246.800, 1575835.3...  7386335         28\n",
      "32  LINESTRING (1575799.033 5196938.216, 1575687.8...  7190000         31\n",
      "33  LINESTRING (1575627.065 5196343.720, 1575583.2...  7189999         25\n",
      "34  LINESTRING (1575531.917 5197899.634, 1575562.5...  6974903         27\n",
      "35  LINESTRING (1575531.917 5197899.634, 1575495.4...  7190003         30\n",
      "36  LINESTRING (1575602.880 5197211.694, 1575564.3...  6974902         22\n",
      "37  LINESTRING (1575390.838 5196001.950, 1575385.0...  6974899         24\n",
      "38  LINESTRING (1575168.093 5195424.038, 1575170.6...  7495786          6\n",
      "39  LINESTRING (1574802.770 5195426.677, 1574904.3...  7189998          8\n",
      "40  LINESTRING (1574993.982 5194760.383, 1574997.0...  7189997         18\n",
      "41  LINESTRING (1574987.262 5194394.487, 1575016.6...  7189995         14\n",
      "42  LINESTRING (1575062.571 5193818.084, 1575058.8...  7386311         13\n",
      "43  LINESTRING (1575068.566 5194008.716, 1575093.0...  7386333         15\n",
      "44  LINESTRING (1575623.957 5195082.697, 1575723.7...  7386334         36\n",
      "45  LINESTRING (1576063.983 5194045.643, 1576012.4...  7189996         11\n",
      "Check files in dataset NZ20_Cant2\n"
     ]
    },
    {
     "name": "stderr",
     "output_type": "stream",
     "text": [
      "0GB [00:00, ?GB/s]\n"
     ]
    },
    {
     "name": "stdout",
     "output_type": "stream",
     "text": [
      "Check files in dataset NZ20_Canterbury\n"
     ]
    },
    {
     "name": "stderr",
     "output_type": "stream",
     "text": [
      "0GB [00:00, ?GB/s]\n"
     ]
    },
    {
     "name": "stdout",
     "output_type": "stream",
     "text": [
      "Check files in dataset NZ18_AmuriCant\n"
     ]
    },
    {
     "name": "stderr",
     "output_type": "stream",
     "text": [
      "0GB [00:00, ?GB/s]\n"
     ]
    },
    {
     "name": "stdout",
     "output_type": "stream",
     "text": [
      "Check files in dataset NZ18_Canterbury\n"
     ]
    },
    {
     "name": "stderr",
     "output_type": "stream",
     "text": [
      "0GB [00:00, ?GB/s]\n"
     ]
    },
    {
     "name": "stdout",
     "output_type": "stream",
     "text": [
      "Check files in dataset Chch_Selwn_2015\n"
     ]
    },
    {
     "name": "stderr",
     "output_type": "stream",
     "text": [
      "0GB [00:00, ?GB/s]\n"
     ]
    },
    {
     "name": "stdout",
     "output_type": "stream",
     "text": [
      "Check files in dataset Rangiora_2014\n"
     ]
    },
    {
     "name": "stderr",
     "output_type": "stream",
     "text": [
      "0GB [00:00, ?GB/s]\n",
      "DEBUG:2023-02-20 00:29:18,991:src.lidar.lidar_metadata_in_db:NZ20_Cant2_TileIndex.shp: column \"file_name\" of relation \"tileindex\" does not exist\n",
      ". new column names: ['file_name' 'max_x' 'max_y' 'max_z' 'min_x' 'min_y' 'min_z' 'num_points'\n",
      " 'point_size' 'point_type' 'version']\n",
      "DEBUG:2023-02-20 00:29:19,239:src.lidar.lidar_metadata_in_db:NZ20_Canterbury_TileIndex.shp: column \"file_name\" of relation \"tileindex\" does not exist\n",
      ". new column names: ['file_name' 'max_x' 'max_y' 'max_z' 'min_x' 'min_y' 'min_z' 'num_points'\n",
      " 'point_size' 'point_type' 'version']\n",
      "DEBUG:2023-02-20 00:29:24,642:src.lidar.lidar_metadata_in_db:NZ20_Cant2_TileIndex.shp: column \"file_name\" of relation \"tileindex\" does not exist\n",
      ". new column names: ['file_name' 'max_x' 'max_y' 'max_z' 'min_x' 'min_y' 'min_z' 'num_points'\n",
      " 'point_size' 'point_type' 'version']\n",
      "DEBUG:2023-02-20 00:29:24,872:src.lidar.lidar_metadata_in_db:NZ20_Canterbury_TileIndex.shp: column \"file_name\" of relation \"tileindex\" does not exist\n",
      ". new column names: ['file_name' 'max_x' 'max_y' 'max_z' 'min_x' 'min_y' 'min_z' 'num_points'\n",
      " 'point_size' 'point_type' 'version']\n",
      "DEBUG:2023-02-20 00:29:28,387:__main__:bg_flood_model.main()\n",
      "INFO:2023-02-20 00:29:28,409:src.digitaltwin.setup_environment:Connected to PostgreSQL database!\n"
     ]
    },
    {
     "name": "stdout",
     "output_type": "stream",
     "text": [
      "Check files in dataset Rangiora_2014\n"
     ]
    },
    {
     "name": "stderr",
     "output_type": "stream",
     "text": [
      "0GB [00:00, ?GB/s]\n",
      "INFO:distributed.scheduler:State start\n",
      "INFO:distributed.scheduler:  Scheduler at:     tcp://127.0.0.1:33527\n",
      "INFO:distributed.scheduler:  dashboard at:            127.0.0.1:8787\n",
      "INFO:distributed.nanny:        Start Nanny at: 'tcp://127.0.0.1:34389'\n",
      "INFO:distributed.nanny:        Start Nanny at: 'tcp://127.0.0.1:42901'\n",
      "INFO:distributed.nanny:        Start Nanny at: 'tcp://127.0.0.1:33293'\n",
      "INFO:distributed.scheduler:Register worker <WorkerState 'tcp://127.0.0.1:34369', name: 1, status: init, memory: 0, processing: 0>\n",
      "INFO:distributed.scheduler:Starting worker compute stream, tcp://127.0.0.1:34369\n",
      "INFO:distributed.core:Starting established connection to tcp://127.0.0.1:35740\n",
      "INFO:distributed.scheduler:Register worker <WorkerState 'tcp://127.0.0.1:37709', name: 0, status: init, memory: 0, processing: 0>\n",
      "INFO:distributed.scheduler:Starting worker compute stream, tcp://127.0.0.1:37709\n",
      "INFO:distributed.core:Starting established connection to tcp://127.0.0.1:35736\n",
      "INFO:distributed.scheduler:Register worker <WorkerState 'tcp://127.0.0.1:39801', name: 2, status: init, memory: 0, processing: 0>\n",
      "INFO:distributed.scheduler:Starting worker compute stream, tcp://127.0.0.1:39801\n",
      "INFO:distributed.core:Starting established connection to tcp://127.0.0.1:35738\n",
      "INFO:distributed.scheduler:Receive client connection: Client-a9b78c2f-b0b5-11ed-80c5-0242ac170004\n",
      "INFO:distributed.core:Starting established connection to tcp://127.0.0.1:35742\n"
     ]
    },
    {
     "name": "stdout",
     "output_type": "stream",
     "text": [
      "<Client: 'tcp://127.0.0.1:33527' processes=3 threads=3, memory=30.00 GiB>\n"
     ]
    },
    {
     "name": "stderr",
     "output_type": "stream",
     "text": [
      "/env/lib/python3.9/site-packages/geopandas/_compat.py:123: UserWarning: The Shapely GEOS version (3.11.1-CAPI-1.17.1) is incompatible with the GEOS version PyGEOS was compiled with (3.11.0-CAPI-1.17.0). Conversions between both will be slow.\n",
      "  warnings.warn(\n",
      "/env/lib/python3.9/site-packages/geofabrics/dem.py:14: UserWarning: Shapely 2.0 is installed, but because PyGEOS is also installed, GeoPandas will still use PyGEOS by default for now. To force to use and test Shapely 2.0, you have to set the environment variable USE_PYGEOS=0. You can do this before starting the Python process, or in your code before importing geopandas:\n",
      "\n",
      "import os\n",
      "os.environ['USE_PYGEOS'] = '0'\n",
      "import geopandas\n",
      "\n",
      "In a future release, GeoPandas will switch to using Shapely by default. If you are using PyGEOS directly (calling PyGEOS functions on geometries from GeoPandas), this will then stop working and you are encouraged to migrate from PyGEOS to Shapely 2.0 (https://shapely.readthedocs.io/en/latest/migration_pygeos.html).\n",
      "  import geopandas\n",
      "/env/lib/python3.9/site-packages/geopandas/_compat.py:123: UserWarning: The Shapely GEOS version (3.11.1-CAPI-1.17.1) is incompatible with the GEOS version PyGEOS was compiled with (3.11.0-CAPI-1.17.0). Conversions between both will be slow.\n",
      "  warnings.warn(\n",
      "/env/lib/python3.9/site-packages/geofabrics/dem.py:14: UserWarning: Shapely 2.0 is installed, but because PyGEOS is also installed, GeoPandas will still use PyGEOS by default for now. To force to use and test Shapely 2.0, you have to set the environment variable USE_PYGEOS=0. You can do this before starting the Python process, or in your code before importing geopandas:\n",
      "\n",
      "import os\n",
      "os.environ['USE_PYGEOS'] = '0'\n",
      "import geopandas\n",
      "\n",
      "In a future release, GeoPandas will switch to using Shapely by default. If you are using PyGEOS directly (calling PyGEOS functions on geometries from GeoPandas), this will then stop working and you are encouraged to migrate from PyGEOS to Shapely 2.0 (https://shapely.readthedocs.io/en/latest/migration_pygeos.html).\n",
      "  import geopandas\n",
      "/env/lib/python3.9/site-packages/geopandas/_compat.py:123: UserWarning: The Shapely GEOS version (3.11.1-CAPI-1.17.1) is incompatible with the GEOS version PyGEOS was compiled with (3.11.0-CAPI-1.17.0). Conversions between both will be slow.\n",
      "  warnings.warn(\n",
      "/env/lib/python3.9/site-packages/geofabrics/dem.py:14: UserWarning: Shapely 2.0 is installed, but because PyGEOS is also installed, GeoPandas will still use PyGEOS by default for now. To force to use and test Shapely 2.0, you have to set the environment variable USE_PYGEOS=0. You can do this before starting the Python process, or in your code before importing geopandas:\n",
      "\n",
      "import os\n",
      "os.environ['USE_PYGEOS'] = '0'\n",
      "import geopandas\n",
      "\n",
      "In a future release, GeoPandas will switch to using Shapely by default. If you are using PyGEOS directly (calling PyGEOS functions on geometries from GeoPandas), this will then stop working and you are encouraged to migrate from PyGEOS to Shapely 2.0 (https://shapely.readthedocs.io/en/latest/migration_pygeos.html).\n",
      "  import geopandas\n",
      "INFO:distributed.core:Event loop was unresponsive in Worker for 3.87s.  This is often caused by long-running GIL-holding functions or moving large chunks of data. This can cause timeouts and instability.\n",
      "INFO:distributed.core:Event loop was unresponsive in Worker for 4.18s.  This is often caused by long-running GIL-holding functions or moving large chunks of data. This can cause timeouts and instability.\n",
      "INFO:distributed.core:Event loop was unresponsive in Worker for 4.52s.  This is often caused by long-running GIL-holding functions or moving large chunks of data. This can cause timeouts and instability.\n",
      "WARNING:root:In dem.elevation_over_chunk the latest chunk has no data and is being ignored.\n",
      "INFO:distributed.core:Event loop was unresponsive in Worker for 3.05s.  This is often caused by long-running GIL-holding functions or moving large chunks of data. This can cause timeouts and instability.\n",
      "INFO:distributed.core:Event loop was unresponsive in Worker for 4.08s.  This is often caused by long-running GIL-holding functions or moving large chunks of data. This can cause timeouts and instability.\n",
      "INFO:distributed.core:Event loop was unresponsive in Worker for 5.64s.  This is often caused by long-running GIL-holding functions or moving large chunks of data. This can cause timeouts and instability.\n",
      "INFO:distributed.core:Event loop was unresponsive in Worker for 7.18s.  This is often caused by long-running GIL-holding functions or moving large chunks of data. This can cause timeouts and instability.\n",
      "INFO:distributed.core:Event loop was unresponsive in Worker for 3.90s.  This is often caused by long-running GIL-holding functions or moving large chunks of data. This can cause timeouts and instability.\n",
      "WARNING:root:In dem.elevation_over_chunk the latest chunk has no data and is being ignored.\n",
      "INFO:distributed.core:Event loop was unresponsive in Worker for 3.26s.  This is often caused by long-running GIL-holding functions or moving large chunks of data. This can cause timeouts and instability.\n",
      "INFO:distributed.core:Event loop was unresponsive in Worker for 3.94s.  This is often caused by long-running GIL-holding functions or moving large chunks of data. This can cause timeouts and instability.\n",
      "INFO:distributed.core:Event loop was unresponsive in Worker for 3.30s.  This is often caused by long-running GIL-holding functions or moving large chunks of data. This can cause timeouts and instability.\n",
      "INFO:distributed.core:Event loop was unresponsive in Worker for 4.85s.  This is often caused by long-running GIL-holding functions or moving large chunks of data. This can cause timeouts and instability.\n",
      "INFO:distributed.core:Event loop was unresponsive in Worker for 4.15s.  This is often caused by long-running GIL-holding functions or moving large chunks of data. This can cause timeouts and instability.\n",
      "INFO:distributed.core:Event loop was unresponsive in Worker for 3.58s.  This is often caused by long-running GIL-holding functions or moving large chunks of data. This can cause timeouts and instability.\n",
      "WARNING:root:In dem.elevation_over_chunk the latest chunk has no data and is being ignored.\n",
      "INFO:distributed.core:Event loop was unresponsive in Worker for 3.82s.  This is often caused by long-running GIL-holding functions or moving large chunks of data. This can cause timeouts and instability.\n",
      "INFO:distributed.core:Event loop was unresponsive in Worker for 4.35s.  This is often caused by long-running GIL-holding functions or moving large chunks of data. This can cause timeouts and instability.\n",
      "INFO:distributed.core:Event loop was unresponsive in Worker for 4.10s.  This is often caused by long-running GIL-holding functions or moving large chunks of data. This can cause timeouts and instability.\n",
      "WARNING:root:In dem.elevation_over_chunk the latest chunk has no data and is being ignored.\n",
      "WARNING:root:In dem.elevation_over_chunk the latest chunk has no data and is being ignored.\n",
      "INFO:distributed.scheduler:Remove client Client-a9b78c2f-b0b5-11ed-80c5-0242ac170004\n",
      "INFO:distributed.core:Received 'close-stream' from tcp://127.0.0.1:35742; closing.\n",
      "INFO:distributed.scheduler:Remove client Client-a9b78c2f-b0b5-11ed-80c5-0242ac170004\n",
      "INFO:distributed.scheduler:Close client connection: Client-a9b78c2f-b0b5-11ed-80c5-0242ac170004\n",
      "INFO:distributed.nanny:Closing Nanny at 'tcp://127.0.0.1:34389'. Reason: nanny-close\n",
      "INFO:distributed.nanny:Nanny asking worker to close. Reason: nanny-close\n",
      "INFO:distributed.nanny:Closing Nanny at 'tcp://127.0.0.1:42901'. Reason: nanny-close\n",
      "INFO:distributed.worker:Stopping worker at tcp://127.0.0.1:37709. Reason: nanny-close\n",
      "INFO:distributed.nanny:Nanny asking worker to close. Reason: nanny-close\n",
      "INFO:distributed.core:Connection to tcp://127.0.0.1:33527 has been closed.\n",
      "INFO:distributed.nanny:Closing Nanny at 'tcp://127.0.0.1:33293'. Reason: nanny-close\n",
      "INFO:distributed.nanny:Nanny asking worker to close. Reason: nanny-close\n",
      "INFO:distributed.worker:Stopping worker at tcp://127.0.0.1:34369. Reason: nanny-close\n",
      "INFO:distributed.core:Connection to tcp://127.0.0.1:33527 has been closed.\n",
      "INFO:distributed.worker:Stopping worker at tcp://127.0.0.1:39801. Reason: nanny-close\n",
      "INFO:distributed.core:Received 'close-stream' from tcp://127.0.0.1:35736; closing.\n",
      "INFO:distributed.core:Received 'close-stream' from tcp://127.0.0.1:35740; closing.\n",
      "INFO:distributed.core:Connection to tcp://127.0.0.1:33527 has been closed.\n",
      "INFO:distributed.scheduler:Remove worker <WorkerState 'tcp://127.0.0.1:37709', name: 0, status: closing, memory: 0, processing: 0>\n",
      "INFO:distributed.core:Removing comms to tcp://127.0.0.1:37709\n",
      "INFO:distributed.scheduler:Remove worker <WorkerState 'tcp://127.0.0.1:34369', name: 1, status: closing, memory: 0, processing: 0>\n",
      "INFO:distributed.core:Removing comms to tcp://127.0.0.1:34369\n",
      "INFO:distributed.core:Received 'close-stream' from tcp://127.0.0.1:35738; closing.\n",
      "INFO:distributed.scheduler:Remove worker <WorkerState 'tcp://127.0.0.1:39801', name: 2, status: closing, memory: 0, processing: 0>\n",
      "INFO:distributed.core:Removing comms to tcp://127.0.0.1:39801\n",
      "INFO:distributed.scheduler:Lost all workers\n",
      "INFO:distributed.scheduler:Scheduler closing...\n",
      "INFO:distributed.scheduler:Scheduler closing all comms\n",
      "INFO:2023-02-20 00:30:58,318:src.digitaltwin.setup_environment:Connected to PostgreSQL database!\n",
      "INFO:src.digitaltwin.setup_environment:Connected to PostgreSQL database!\n"
     ]
    },
    {
     "name": "stdout",
     "output_type": "stream",
     "text": [
      "0.0,150.0\n",
      "300.0,300.0\n",
      "1800.0,300.0\n",
      "run BG_Flood on Windows OS .................\n"
     ]
    }
   ],
   "source": [
    "log.debug(\"run.main()\")\n",
    "run.main()\n",
    "log.debug(\"get_data_from_db.main()\")\n",
    "get_data_from_db.main()\n",
    "log.debug(\"lidar_metadata_in_db.main()\")\n",
    "lidar_metadata_in_db.main()\n",
    "# log.debug(\"main_rainfall.main()\")\n",
    "# main_rainfall.main()\n",
    "log.debug(\"bg_flood_model.main()\")\n",
    "bg_flood_model.main()"
   ]
  },
  {
   "cell_type": "markdown",
   "id": "f8ac3b27-5c4f-4c4d-842b-2046f10a65cd",
   "metadata": {},
   "source": [
    "**Modify BG_param.txt to run in Windows.**"
   ]
  },
  {
   "cell_type": "code",
   "execution_count": 4,
   "id": "2697b4b2-ddb9-4b18-a8b5-ef2361e279b5",
   "metadata": {},
   "outputs": [
    {
     "name": "stdout",
     "output_type": "stream",
     "text": [
      "topo = C:/Users/xca28/GRI/datastorage/cache/results/generated_dem.nc?z;\n",
      "gpudevice = 0;\n",
      "mask = 15;\n",
      "dx = 10;\n",
      "smallnc = 0;\n",
      "outputtimestep = 100.0;\n",
      "endtime = 900.0;\n",
      "river = RiverDis.txt,1575388.550,1575389.550,5197749.557,5197750.557;\n",
      "outvars = h, hmax, zb, zs, u, v;\n",
      "outfile = C:/Users/xca28/GRI/datastorage/model_output/output_2023_02_20_00_30_58.nc;\n"
     ]
    }
   ],
   "source": [
    "new_data_dir = 'C:/Users/xca28/GRI/datastorage'\n",
    "old_data_dir = config.get_env_variable('DATA_DIR')\n",
    "bg_flood_dir = config.get_env_variable('FLOOD_MODEL_DIR')\n",
    "param_file = open(rf\"{bg_flood_dir}/BG_param.txt\", \"r+\")\n",
    "text = param_file.read()\n",
    "text = text.replace(rf'{old_data_dir}', rf'{new_data_dir}')\n",
    "param_file.close()\n",
    "param_file = open(rf\"{bg_flood_dir}/BG_param.txt\", \"wt\")\n",
    "print(text)\n",
    "param_file.write(text)\n",
    "param_file.close()"
   ]
  },
  {
   "cell_type": "markdown",
   "id": "ecc95929-2d05-4b1e-8d0d-92961833ee75",
   "metadata": {},
   "source": [
    "**Open windows terminal, go to BG_Flood model directory, execute  `BG_Flood_Cleanup.exe`.**\n",
    "\n",
    "After runing flood model, then check the BG_Foold model output path:"
   ]
  },
  {
   "cell_type": "code",
   "execution_count": 5,
   "id": "8cba9667-bd09-4123-99bd-4194a4bbb0c2",
   "metadata": {},
   "outputs": [
    {
     "name": "stderr",
     "output_type": "stream",
     "text": [
      "INFO:2023-02-20 00:30:58,461:src.digitaltwin.setup_environment:Connected to PostgreSQL database!\n",
      "INFO:src.digitaltwin.setup_environment:Connected to PostgreSQL database!\n"
     ]
    },
    {
     "name": "stdout",
     "output_type": "stream",
     "text": [
      "The latest flood model output path: /home/jovyan/datastorage/model_output/output_2023_02_20_00_30_58.nc\n"
     ]
    }
   ],
   "source": [
    "catchment_boundary = dem_metadata_in_db.get_catchment_boundary()\n",
    "geometry = str(catchment_boundary[\"geometry\"][0])\n",
    "engine = setup_environment.get_database()\n",
    "query = \"SELECT * FROM model_output WHERE geometry = geometry\"\n",
    "output_data = pd.read_sql_query(query, engine)\n",
    "output_path = pathlib.Path(output_data['filepath'].values[-1])\n",
    "print('The latest flood model output path:', output_path)"
   ]
  },
  {
   "cell_type": "code",
   "execution_count": null,
   "id": "3ff94991-6e4b-4c2d-b845-53528559bf22",
   "metadata": {},
   "outputs": [],
   "source": []
  }
 ],
 "metadata": {
  "kernelspec": {
   "display_name": "Python 3 (ipykernel)",
   "language": "python",
   "name": "python3"
  },
  "language_info": {
   "codemirror_mode": {
    "name": "ipython",
    "version": 3
   },
   "file_extension": ".py",
   "mimetype": "text/x-python",
   "name": "python",
   "nbconvert_exporter": "python",
   "pygments_lexer": "ipython3",
   "version": "3.9.15"
  }
 },
 "nbformat": 4,
 "nbformat_minor": 5
}
