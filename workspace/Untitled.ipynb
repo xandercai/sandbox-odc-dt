{
 "cells": [
  {
   "cell_type": "code",
   "execution_count": 3,
   "id": "da494ffa-2529-4889-9b45-af4431224fd5",
   "metadata": {},
   "outputs": [],
   "source": [
    "import warnings\n",
    "warnings.filterwarnings('ignore')"
   ]
  },
  {
   "cell_type": "code",
   "execution_count": 4,
   "id": "f1bdf642-bce1-4fba-84e0-16c746a40b2f",
   "metadata": {},
   "outputs": [],
   "source": [
    "%matplotlib inline\n",
    "import os\n",
    "import sys\n",
    "import datacube\n",
    "import pandas as pd\n",
    "import matplotlib.pyplot as plt\n",
    "from odc.apps.dc_tools.stac_api_to_dc import stac_api_to_odc\n",
    "sys.path.insert(1, './Tools/')\n",
    "from dea_tools.plotting import display_map, rgb\n",
    "\n",
    "# Set some configurations for displaying tables nicely\n",
    "pd.set_option(\"display.max_colwidth\", 200)\n",
    "pd.set_option(\"display.max_rows\", None)"
   ]
  },
  {
   "cell_type": "code",
   "execution_count": null,
   "id": "6e984cf9-2c61-4858-b0ab-e9f37b050ced",
   "metadata": {},
   "outputs": [],
   "source": []
  },
  {
   "cell_type": "code",
   "execution_count": null,
   "id": "b4e716ef-c855-4860-82a3-39673b52b1be",
   "metadata": {},
   "outputs": [],
   "source": [
    "! datacube product add https://explorer.digitalearth.africa/products/s2_l2a.odc-product.yaml"
   ]
  },
  {
   "cell_type": "code",
   "execution_count": 13,
   "id": "abd405b0-b62a-4225-9bbb-2e17d629418a",
   "metadata": {},
   "outputs": [
    {
     "name": "stdout",
     "output_type": "stream",
     "text": [
      "\u001b[?25lIndexing datasets  [####################################]  100%\u001b[?25h\n"
     ]
    }
   ],
   "source": [
    "! datacube dataset add https://explorer.digitalearth.africa/dataset/3d8bfb1b-d075-58f9-a2bf-45d7baa372b7.odc-metadata.yaml"
   ]
  },
  {
   "cell_type": "code",
   "execution_count": null,
   "id": "c0604f8f-7228-4cd0-b294-6d23204d5a93",
   "metadata": {},
   "outputs": [],
   "source": []
  },
  {
   "cell_type": "code",
   "execution_count": null,
   "id": "1cffac13-90c1-49fe-8574-0af5988a4333",
   "metadata": {},
   "outputs": [],
   "source": []
  },
  {
   "cell_type": "code",
   "execution_count": null,
   "id": "104b7862-1a1f-4e9f-99c6-1db739d3c5e2",
   "metadata": {},
   "outputs": [],
   "source": []
  },
  {
   "cell_type": "code",
   "execution_count": null,
   "id": "220027f0-d598-4d06-8de2-09d8f4ad72fa",
   "metadata": {},
   "outputs": [],
   "source": [
    "STAC_API_URL = 'https://explorer.digitalearth.africa/stac'\n",
    "os.environ['STAC_API_URL'] = STAC_API_URL\n",
    "config = {\n",
    "    'collections': ['s2_l2a'],\n",
    "    'datetime': \"2017-04-20/2017-04-21\"\n",
    "}\n",
    "indexed, failed, skipped = stac_api_to_odc(dc, False, config, STAC_API_URL)\n",
    "print(f\"Indexed {indexed} with {failed} failures and {skipped} skipped.\")"
   ]
  },
  {
   "cell_type": "code",
   "execution_count": null,
   "id": "9bb4c927-c8ba-4148-9e20-e485d7ca645c",
   "metadata": {},
   "outputs": [],
   "source": []
  },
  {
   "cell_type": "code",
   "execution_count": null,
   "id": "b5ccc47b-3bd9-412f-801c-16f73f44cf7b",
   "metadata": {},
   "outputs": [],
   "source": []
  },
  {
   "cell_type": "code",
   "execution_count": null,
   "id": "dd03ea5b-7523-48c8-8ff8-a3cdcfc738cf",
   "metadata": {},
   "outputs": [],
   "source": []
  },
  {
   "cell_type": "code",
   "execution_count": 17,
   "id": "f4485e04-4e55-48a0-a588-9b090bc0e9a3",
   "metadata": {},
   "outputs": [
    {
     "data": {
      "text/html": [
       "<div>\n",
       "<style scoped>\n",
       "    .dataframe tbody tr th:only-of-type {\n",
       "        vertical-align: middle;\n",
       "    }\n",
       "\n",
       "    .dataframe tbody tr th {\n",
       "        vertical-align: top;\n",
       "    }\n",
       "\n",
       "    .dataframe thead th {\n",
       "        text-align: right;\n",
       "    }\n",
       "</style>\n",
       "<table border=\"1\" class=\"dataframe\">\n",
       "  <thead>\n",
       "    <tr style=\"text-align: right;\">\n",
       "      <th></th>\n",
       "      <th>name</th>\n",
       "      <th>description</th>\n",
       "      <th>license</th>\n",
       "      <th>default_crs</th>\n",
       "      <th>default_resolution</th>\n",
       "    </tr>\n",
       "    <tr>\n",
       "      <th>name</th>\n",
       "      <th></th>\n",
       "      <th></th>\n",
       "      <th></th>\n",
       "      <th></th>\n",
       "      <th></th>\n",
       "    </tr>\n",
       "  </thead>\n",
       "  <tbody>\n",
       "    <tr>\n",
       "      <th>dt_flood</th>\n",
       "      <td>dt_flood</td>\n",
       "      <td>Digital Twins Flood</td>\n",
       "      <td>CC-BY-4.0</td>\n",
       "      <td>None</td>\n",
       "      <td>None</td>\n",
       "    </tr>\n",
       "    <tr>\n",
       "      <th>ga_ls8c_ard_3</th>\n",
       "      <td>ga_ls8c_ard_3</td>\n",
       "      <td>Geoscience Australia Landsat 8 Operational Land Imager and Thermal Infra-Red Scanner Analysis Ready Data Collection 3</td>\n",
       "      <td>CC-BY-4.0</td>\n",
       "      <td>None</td>\n",
       "      <td>None</td>\n",
       "    </tr>\n",
       "    <tr>\n",
       "      <th>ga_s2am_ard_3</th>\n",
       "      <td>ga_s2am_ard_3</td>\n",
       "      <td>Geoscience Australia Sentinel 2A MSI Analysis Ready Data Collection 3</td>\n",
       "      <td>CC-BY-4.0</td>\n",
       "      <td>None</td>\n",
       "      <td>None</td>\n",
       "    </tr>\n",
       "    <tr>\n",
       "      <th>s2_l2a</th>\n",
       "      <td>s2_l2a</td>\n",
       "      <td>Sentinel-2a and Sentinel-2b imagery, processed to Level 2A (Surface Reflectance) and converted to Cloud Optimized GeoTIFFs</td>\n",
       "      <td>None</td>\n",
       "      <td>None</td>\n",
       "      <td>None</td>\n",
       "    </tr>\n",
       "  </tbody>\n",
       "</table>\n",
       "</div>"
      ],
      "text/plain": [
       "                        name  \\\n",
       "name                           \n",
       "dt_flood            dt_flood   \n",
       "ga_ls8c_ard_3  ga_ls8c_ard_3   \n",
       "ga_s2am_ard_3  ga_s2am_ard_3   \n",
       "s2_l2a                s2_l2a   \n",
       "\n",
       "                                                                                                                              description  \\\n",
       "name                                                                                                                                        \n",
       "dt_flood                                                                                                              Digital Twins Flood   \n",
       "ga_ls8c_ard_3       Geoscience Australia Landsat 8 Operational Land Imager and Thermal Infra-Red Scanner Analysis Ready Data Collection 3   \n",
       "ga_s2am_ard_3                                                       Geoscience Australia Sentinel 2A MSI Analysis Ready Data Collection 3   \n",
       "s2_l2a         Sentinel-2a and Sentinel-2b imagery, processed to Level 2A (Surface Reflectance) and converted to Cloud Optimized GeoTIFFs   \n",
       "\n",
       "                 license default_crs default_resolution  \n",
       "name                                                     \n",
       "dt_flood       CC-BY-4.0        None               None  \n",
       "ga_ls8c_ard_3  CC-BY-4.0        None               None  \n",
       "ga_s2am_ard_3  CC-BY-4.0        None               None  \n",
       "s2_l2a              None        None               None  "
      ]
     },
     "execution_count": 17,
     "metadata": {},
     "output_type": "execute_result"
    }
   ],
   "source": [
    "dc = datacube.Datacube(app='ows')\n",
    "\n",
    "dc.list_products()"
   ]
  },
  {
   "cell_type": "code",
   "execution_count": 18,
   "id": "cbdeb52d-0dad-4311-b1f6-34341062a39e",
   "metadata": {
    "scrolled": true,
    "tags": []
   },
   "outputs": [
    {
     "data": {
      "text/plain": [
       "[Dataset <id=3d8bfb1b-d075-58f9-a2bf-45d7baa372b7 product=s2_l2a location=s3://deafrica-sentinel-2/sentinel-s2-l2a-cogs/35/M/KT/2017/3/S2A_35MKT_20170315_0_L2A/S2A_35MKT_20170315_0_L2A.json>]"
      ]
     },
     "execution_count": 18,
     "metadata": {},
     "output_type": "execute_result"
    }
   ],
   "source": [
    "datasets = dc.find_datasets(product=\"s2_l2a\")\n",
    "\n",
    "datasets"
   ]
  },
  {
   "cell_type": "code",
   "execution_count": null,
   "id": "aea729e3-61b6-43c8-8f53-8fa31b5c864d",
   "metadata": {},
   "outputs": [],
   "source": []
  },
  {
   "cell_type": "code",
   "execution_count": null,
   "id": "e959a4b5-f2df-4ab9-8b65-6d23bdbfda14",
   "metadata": {},
   "outputs": [],
   "source": []
  }
 ],
 "metadata": {
  "kernelspec": {
   "display_name": "Python 3 (ipykernel)",
   "language": "python",
   "name": "python3"
  },
  "language_info": {
   "codemirror_mode": {
    "name": "ipython",
    "version": 3
   },
   "file_extension": ".py",
   "mimetype": "text/x-python",
   "name": "python",
   "nbconvert_exporter": "python",
   "pygments_lexer": "ipython3",
   "version": "3.9.15"
  }
 },
 "nbformat": 4,
 "nbformat_minor": 5
}
